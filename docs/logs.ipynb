{
 "cells": [
  {
   "cell_type": "markdown",
   "id": "4c81215c-7cdf-4145-b29f-2da5bbe11486",
   "metadata": {
    "editable": true,
    "slideshow": {
     "slide_type": ""
    },
    "tags": []
   },
   "source": [
    "# work logs"
   ]
  },
  {
   "cell_type": "code",
   "execution_count": null,
   "id": "6f8e1570-478c-4ab3-9902-ff3832b88800",
   "metadata": {
    "editable": true,
    "slideshow": {
     "slide_type": ""
    },
    "tags": [
     "remove-cell"
    ]
   },
   "outputs": [],
   "source": [
    "import json\n",
    "from pathlib import Path\n",
    "\n",
    "import jinja2\n",
    "from IPython.display import HTML, Markdown, display\n",
    "from nbconvert.filters import ansi2html"
   ]
  },
  {
   "cell_type": "code",
   "execution_count": null,
   "id": "f34a0361-32db-4fb7-9d3a-068e911b00d5",
   "metadata": {
    "editable": true,
    "slideshow": {
     "slide_type": ""
    },
    "tags": [
     "remove-cell"
    ]
   },
   "outputs": [],
   "source": [
    "LOGS = sorted(\n",
    "    (Path.cwd() / \"../work/build/logs/\").resolve().glob(\"*.json\"),\n",
    "    key=lambda x: x.stat().st_mtime,\n",
    ")"
   ]
  },
  {
   "cell_type": "code",
   "execution_count": null,
   "id": "676e76d1-1f75-4f0d-bbdd-217c8e0a229d",
   "metadata": {
    "editable": true,
    "slideshow": {
     "slide_type": ""
    },
    "tags": [
     "remove-input"
    ]
   },
   "outputs": [],
   "source": [
    "HTML(\n",
    "    \"\"\"\n",
    "<style>\n",
    ".doit-log { width: 100% !important; }\n",
    ".doit-log td { text-align: left !important; }\n",
    ".doit-log th { text-align: left !important; }\n",
    ".doit-log .elapsed { text-align: right !important; width: 5em;}\n",
    ".doit-log .result { width: 5em;}\n",
    ".doit-log th.name { width: 15em;}\n",
    "details pre {padding: 1em !important;}\n",
    "</style>\n",
    "\"\"\"\n",
    ")"
   ]
  },
  {
   "cell_type": "code",
   "execution_count": null,
   "id": "74089506-8627-4c3b-afa1-dfddd34ee629",
   "metadata": {
    "editable": true,
    "slideshow": {
     "slide_type": ""
    },
    "tags": [
     "remove-cell"
    ]
   },
   "outputs": [],
   "source": [
    "TMPL = jinja2.Template(\n",
    "    \"\"\"\n",
    "<h2>{{ log.stem }}</h2>\n",
    "<table class=\"doit-log\">\n",
    "    <thead>\n",
    "        <tr>\n",
    "            {% for h in headers %}<th class=\"{{h}}\">{{ h }}</th>{% endfor %}\n",
    "            {% for f in fields %}<td class=\"{{f}}\">{{ f }}</td>{% endfor %}\n",
    "            {% for d in details %}<td class=\"{{d}}\">{{ d }}</td>{% endfor %}\n",
    "        </tr>\n",
    "    </thead>\n",
    "    <tbody>\n",
    "        {% for t in tasks %}\n",
    "        <tr>\n",
    "            {% for h in headers %}\n",
    "            <th >\n",
    "                {% if h == \"name\" %}\n",
    "                {{ t[h].replace(\"shave:\", \"\") }}\n",
    "                {% else %}\n",
    "                {{ t[h] }}\n",
    "                {% endif %}\n",
    "            </th>\n",
    "            {% endfor %}\n",
    "            {% for f in fields %}<td class=\"{{ f }}\">\n",
    "                {% if f == \"elapsed\" and t[f] %}\n",
    "                    {{ (t[f]) | round(1) }} s\n",
    "                {% else %}\n",
    "                    {{ t[f] or \"\" }}\n",
    "                {% endif %}\n",
    "            </td>\n",
    "            {% endfor %}\n",
    "            {% for d in details %}<td width=\"100%\">\n",
    "                {% if t[d] %}\n",
    "                <details class=\"jp-RenderedText\">\n",
    "                    <summary>{{ t[d] | count }} lines</summary>\n",
    "                    <pre>{{ ansi2html(\"\".join(t[d])) }}</pre>\n",
    "                </details>\n",
    "                {% endif %}\n",
    "            </td>{% endfor %}\n",
    "        </tr>\n",
    "        {% endfor %}\n",
    "    </tbody>\n",
    "</table>\n",
    "\"\"\"\n",
    ")"
   ]
  },
  {
   "cell_type": "code",
   "execution_count": null,
   "id": "aa0c4339-1992-48cb-99c5-9837d00cc938",
   "metadata": {
    "editable": true,
    "slideshow": {
     "slide_type": ""
    },
    "tags": [
     "remove-cell"
    ]
   },
   "outputs": [],
   "source": [
    "HEADERS = [\"result\", \"name\"]\n",
    "FIELDS = [\"elapsed\"]\n",
    "DETAILS = [\"out\", \"err\"]\n",
    "CONTEXT = dict(headers=HEADERS, fields=FIELDS, details=DETAILS, ansi2html=ansi2html)"
   ]
  },
  {
   "cell_type": "code",
   "execution_count": null,
   "id": "9515d74a-c5b7-4cfc-9172-cad89c39f669",
   "metadata": {
    "editable": true,
    "slideshow": {
     "slide_type": ""
    },
    "tags": [
     "remove-input"
    ]
   },
   "outputs": [],
   "source": [
    "for log in LOGS:\n",
    "    try:\n",
    "        tasks = [\n",
    "            t\n",
    "            for t in json.loads(log.read_text(encoding=\"utf-8\"))[\"tasks\"]\n",
    "            if t[\"elapsed\"]\n",
    "        ]\n",
    "    except:\n",
    "        continue\n",
    "    display(HTML(TMPL.render(log=log, tasks=tasks, **CONTEXT)))\n",
    "else:\n",
    "    display(Markdown(\"> No work logs were created\"))"
   ]
  },
  {
   "cell_type": "code",
   "execution_count": null,
   "id": "57db93ba-aa38-4498-861c-5a3340ceb9fe",
   "metadata": {
    "editable": true,
    "slideshow": {
     "slide_type": ""
    },
    "tags": []
   },
   "outputs": [],
   "source": []
  }
 ],
 "metadata": {
  "kernelspec": {
   "display_name": "Python 3 (ipykernel)",
   "language": "python",
   "name": "python3"
  },
  "language_info": {
   "codemirror_mode": {
    "name": "ipython",
    "version": 3
   },
   "file_extension": ".py",
   "mimetype": "text/x-python",
   "name": "python",
   "nbconvert_exporter": "python",
   "pygments_lexer": "ipython3",
   "version": "3.11.6"
  }
 },
 "nbformat": 4,
 "nbformat_minor": 5
}
