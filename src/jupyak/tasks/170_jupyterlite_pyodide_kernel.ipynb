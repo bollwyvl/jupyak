{
 "cells": [
  {
   "cell_type": "markdown",
   "id": "4b8fa94a-9938-4d4d-9212-b8981f5520d1",
   "metadata": {},
   "source": [
    "# jupyterlite_pyodide_kernel\n",
    "\n",
    "> [`jupyterlite_pyodide_kernel`](https://github.com/jupyterlite/pyodide-kernel) provides the IPython/ipykernel interactive computing experience in the JupyterLite client, powered by the `pyodide` Python distribution."
   ]
  },
  {
   "cell_type": "code",
   "execution_count": null,
   "id": "2f02033a-8284-4d5d-a598-2dc8c0228dbd",
   "metadata": {},
   "outputs": [],
   "source": [
    "GH_ORG = \"jupyterlite\"\n",
    "NAME = \"jupyterlite_pyodide_kernel\"\n",
    "JS_NS = \"@jupyterlite\"\n",
    "URL = f\"https://github.com/{GH_ORG}/pyodide-kernel\""
   ]
  },
  {
   "cell_type": "code",
   "execution_count": null,
   "id": "ccbe8b70-15fb-4b2c-824c-1635e479c466",
   "metadata": {},
   "outputs": [],
   "source": [
    "import importnb\n",
    "\n",
    "with importnb.Notebook():\n",
    "    from jupyak.tasks import __jupyterlab, __jupyterlite, __lumino\n",
    "    from jupyak.tasks import _well_known as W\n",
    "    from jupyak.tasks import _yak as Y"
   ]
  },
  {
   "cell_type": "markdown",
   "id": "868ca23d-757e-4c31-8bea-dfb10fd75f43",
   "metadata": {},
   "source": [
    "## schema"
   ]
  },
  {
   "cell_type": "markdown",
   "id": "72146477-59b8-4c2c-80f8-e36ba60ae950",
   "metadata": {},
   "source": [
    "> use the hacked labextension script to bypass location/version checks"
   ]
  },
  {
   "cell_type": "code",
   "execution_count": null,
   "id": "0018726e-49dc-4f6c-9621-f67003eaf83a",
   "metadata": {},
   "outputs": [],
   "source": [
    "pk = \"packages/pyodide-kernel\"\n",
    "pke = \"packages/pyodide-kernel-extension\"\n",
    "pk_tsbi = f\"{pk}/{W.TSCONFIG_BUILDINFO}\"\n",
    "pke_tsbi = f\"{pke}/{W.TSCONFIG_BUILDINFO}\"\n",
    "pk_pypi_all = f\"{pk}/pypi/all.json\"\n",
    "JS_DIST_TASKS = {\n",
    "    f\"./{pk}/\": [\n",
    "        {\n",
    "            \"name\": \"build:py:wheels\",\n",
    "            \"actions\": [[\"yarn\", \"build:py\"]],\n",
    "            \"file_dep\": [\n",
    "                f\"{pk}/py/**/pyproject.toml\",\n",
    "                f\"{pk}/py/**/*.py\",\n",
    "            ],\n",
    "            \"targets\": [pk_pypi_all],\n",
    "            \"needs_pth\": [\n",
    "                \"jupyterlite_core\",\n",
    "                NAME,\n",
    "            ],\n",
    "        },\n",
    "        {\n",
    "            \"name\": \"build:js\",\n",
    "            \"actions\": [[\"yarn\", \"build:prod\"]],\n",
    "            \"file_dep\": [pk_pypi_all, f\"{pk}/src/**/*.ts\"],\n",
    "            \"targets\": [pk_tsbi],\n",
    "        },\n",
    "    ],\n",
    "    f\"./{pke}/\": [\n",
    "        {\n",
    "            \"name\": \"build:lib\",\n",
    "            \"actions\": [[\"yarn\", \"build:lib\"]],\n",
    "            \"file_dep\": [f\"{pke}/src/**/*.ts\", pk_tsbi],\n",
    "            \"targets\": [pke_tsbi],\n",
    "        },\n",
    "    ],\n",
    "}"
   ]
  },
  {
   "cell_type": "code",
   "execution_count": null,
   "id": "97789d4f-a62c-4f36-9bdc-adeb204eaae0",
   "metadata": {},
   "outputs": [],
   "source": [
    "py_ext_pj = f\"jupyterlite_pyodide_kernel/labextension/{W.PACKAGE_JSON}\"\n",
    "LAB_EXT = {f\"./{pke}/\": {\"file_dep\": [pk_pypi_all, pke_tsbi], \"targets\": [py_ext_pj]}}"
   ]
  },
  {
   "cell_type": "code",
   "execution_count": null,
   "id": "72c46864-d469-43ae-8c80-5e92b818867c",
   "metadata": {},
   "outputs": [],
   "source": [
    "DEFAULTS = {\n",
    "    \"name\": NAME,\n",
    "    \"github\": {\"url\": URL},\n",
    "    \"js\": {\n",
    "        \"dependencies\": [\n",
    "            __lumino.NAME,\n",
    "            __jupyterlab.NAME,\n",
    "            __jupyterlite.NAME,\n",
    "        ],\n",
    "        \"tasks\": JS_DIST_TASKS,\n",
    "    },\n",
    "    \"py\": {\n",
    "        \"dependencies\": [\n",
    "            __jupyterlab.NAME,\n",
    "            __jupyterlite.NAME,\n",
    "        ],\n",
    "        \"lab_extensions\": LAB_EXT,\n",
    "    },\n",
    "    \"lite\": {\"needs_pth\": [NAME]},\n",
    "}"
   ]
  },
  {
   "cell_type": "code",
   "execution_count": null,
   "id": "69e5b039-61d2-4bdf-9986-d176934dea88",
   "metadata": {},
   "outputs": [],
   "source": [
    "@Y.Yak.repo(\n",
    "    NAME,\n",
    "    tuple(DEFAULTS[\"py\"][\"dependencies\"] + DEFAULTS[\"js\"][\"dependencies\"]),\n",
    ")\n",
    "def default_factory(yak: Y.Yak):\n",
    "    return DEFAULTS"
   ]
  }
 ],
 "metadata": {
  "kernelspec": {
   "display_name": "Python 3 (ipykernel)",
   "language": "python",
   "name": "python3"
  },
  "language_info": {
   "codemirror_mode": {
    "name": "ipython",
    "version": 3
   },
   "file_extension": ".py",
   "mimetype": "text/x-python",
   "name": "python",
   "nbconvert_exporter": "python",
   "pygments_lexer": "ipython3",
   "version": "3.11.6"
  }
 },
 "nbformat": 4,
 "nbformat_minor": 5
}
