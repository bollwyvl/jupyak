{
 "cells": [
  {
   "cell_type": "markdown",
   "id": "af75e994-ac77-4cbd-aec9-cc669968d08c",
   "metadata": {},
   "source": [
    "# traitlets\n",
    "\n",
    "[`traitlets`](https://github.com/ipython/traitlets) is the bottom of the Python-based observer/observable stack, used in `IPython`, `jupyter_server`, and `ipywidgets`."
   ]
  },
  {
   "cell_type": "code",
   "execution_count": null,
   "id": "39aee1cd-84ba-4506-b440-202ec1211e88",
   "metadata": {},
   "outputs": [],
   "source": [
    "NAME = \"traitlets\"\n",
    "GH_ORG = \"ipython\"\n",
    "URL = f\"https://github.com/{GH_ORG}/{NAME}\"\n",
    "DEFAULTS = {\"name\": NAME, \"github\": {\"url\": URL}, \"py\": {}, \"lite\": {\"wheel\": True}}"
   ]
  },
  {
   "cell_type": "code",
   "execution_count": null,
   "id": "101b458b-f951-4de5-9b55-50e3f9d74a1d",
   "metadata": {},
   "outputs": [],
   "source": [
    "import importnb\n",
    "\n",
    "with importnb.Notebook():\n",
    "    from jupyak.tasks import _yak as Y"
   ]
  },
  {
   "cell_type": "markdown",
   "id": "04012c7c-f353-4925-ad82-4dbdea484c13",
   "metadata": {},
   "source": [
    "## schema"
   ]
  },
  {
   "cell_type": "markdown",
   "id": "9501fbbc-abca-4a46-a5e0-0e587969d194",
   "metadata": {},
   "source": [
    "> `traitlets` is among the simplest pure Python repos in the stack, but _is_ shipped to the browser for pyodide"
   ]
  },
  {
   "cell_type": "code",
   "execution_count": null,
   "id": "26589296-ae30-4c39-80ed-eb10e7edf5dd",
   "metadata": {},
   "outputs": [],
   "source": [
    "@Y.Yak.repo(NAME)\n",
    "def default_factory(yak: Y.Yak):\n",
    "    return DEFAULTS"
   ]
  }
 ],
 "metadata": {
  "kernelspec": {
   "display_name": "Python 3 (ipykernel)",
   "language": "python",
   "name": "python3"
  },
  "language_info": {
   "codemirror_mode": {
    "name": "ipython",
    "version": 3
   },
   "file_extension": ".py",
   "mimetype": "text/x-python",
   "name": "python",
   "nbconvert_exporter": "python",
   "pygments_lexer": "ipython3",
   "version": "3.11.6"
  }
 },
 "nbformat": 4,
 "nbformat_minor": 5
}
