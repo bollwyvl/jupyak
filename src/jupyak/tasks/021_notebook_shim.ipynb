{
 "cells": [
  {
   "cell_type": "markdown",
   "id": "af75e994-ac77-4cbd-aec9-cc669968d08c",
   "metadata": {},
   "source": [
    "# notebook_shim\n",
    "\n",
    "[`notebook_shim`](https://github.com/jupyter-server/notebook_shim) provides legacy API wrappers from `notebook <7`."
   ]
  },
  {
   "cell_type": "code",
   "execution_count": null,
   "id": "f5d04000-7bba-4a64-8bb3-5039617f9e4b",
   "metadata": {},
   "outputs": [],
   "source": [
    "NAME = \"notebook_shim\"\n",
    "GH_ORG = \"jupyter\"\n",
    "URL = f\"https://github.com/{GH_ORG}/{NAME}\""
   ]
  },
  {
   "cell_type": "code",
   "execution_count": null,
   "id": "101b458b-f951-4de5-9b55-50e3f9d74a1d",
   "metadata": {},
   "outputs": [],
   "source": [
    "import importnb\n",
    "\n",
    "with importnb.Notebook():\n",
    "    from jupyak.tasks import __jupyter_server\n",
    "    from jupyak.tasks import _yak as Y"
   ]
  },
  {
   "cell_type": "code",
   "execution_count": null,
   "id": "be33ce70-cb31-4ded-a042-c6b906a60a09",
   "metadata": {},
   "outputs": [],
   "source": [
    "DEFAULTS = {\n",
    "    \"name\": NAME,\n",
    "    \"github\": {\"url\": URL},\n",
    "    \"py\": {\"dependencies\": [__jupyter_server.NAME]},\n",
    "}"
   ]
  },
  {
   "cell_type": "markdown",
   "id": "04012c7c-f353-4925-ad82-4dbdea484c13",
   "metadata": {},
   "source": [
    "## schema"
   ]
  },
  {
   "cell_type": "code",
   "execution_count": null,
   "id": "0b76d0a7-30e6-4e65-9142-899f44b25ac6",
   "metadata": {},
   "outputs": [],
   "source": [
    "@Y.Yak.repo(NAME, tuple(DEFAULTS[\"py\"][\"dependencies\"]))\n",
    "def default_factory(yak: Y.Yak):\n",
    "    return DEFAULTS"
   ]
  }
 ],
 "metadata": {
  "kernelspec": {
   "display_name": "Python 3 (ipykernel)",
   "language": "python",
   "name": "python3"
  },
  "language_info": {
   "codemirror_mode": {
    "name": "ipython",
    "version": 3
   },
   "file_extension": ".py",
   "mimetype": "text/x-python",
   "name": "python",
   "nbconvert_exporter": "python",
   "pygments_lexer": "ipython3",
   "version": "3.11.6"
  }
 },
 "nbformat": 4,
 "nbformat_minor": 5
}
