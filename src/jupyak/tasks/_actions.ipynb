{
 "cells": [
  {
   "cell_type": "markdown",
   "id": "e5bb2bc0-a93d-465e-bebd-11eaa614c270",
   "metadata": {},
   "source": [
    "# Actions\n",
    "\n",
    "These are _action_ functions used in other notebooks."
   ]
  },
  {
   "cell_type": "markdown",
   "id": "ee09786a-c6b8-4117-a6de-c055edc74c38",
   "metadata": {},
   "source": [
    "## Reusing Actions"
   ]
  },
  {
   "cell_type": "markdown",
   "id": "55f8f802-815b-4ed4-9e35-8983eb92f2a8",
   "metadata": {},
   "source": [
    "These will typically be used with the `doit` callable style.\n",
    "\n",
    "```python\n",
    "with importnb.Notebook():\n",
    "    from _actions import some_action\n",
    "\n",
    "def some_task():\n",
    "    return dict(\n",
    "        actions=[\n",
    "            (some_action, [some_positional_arg], {some_named=\"arg\"})\n",
    "        ]\n",
    "    )\n",
    "```"
   ]
  },
  {
   "cell_type": "markdown",
   "id": "f4393beb-394d-49eb-97a5-39616d7a3fd3",
   "metadata": {},
   "source": [
    "## Conventions\n",
    "\n",
    "This notebook should limit its imports."
   ]
  },
  {
   "cell_type": "code",
   "execution_count": null,
   "id": "63cab78f-3ffd-4c32-a17d-31e16ccba7fc",
   "metadata": {},
   "outputs": [],
   "source": [
    "import hashlib\n",
    "import pprint\n",
    "import shutil\n",
    "import tempfile\n",
    "import urllib.request\n",
    "from pathlib import Path\n",
    "\n",
    "import doit"
   ]
  },
  {
   "cell_type": "markdown",
   "id": "f4b73086-c65e-4f67-b3d8-1a2d63033181",
   "metadata": {},
   "source": [
    "Each should return `True` or `None` if successful, and avoid keeping internal, hidden state."
   ]
  },
  {
   "cell_type": "code",
   "execution_count": null,
   "id": "e110d451-0394-484b-9003-e85f3b54cff5",
   "metadata": {},
   "outputs": [],
   "source": [
    "Boolish = None | bool"
   ]
  },
  {
   "cell_type": "markdown",
   "id": "4664bac4-587c-4edc-bf9c-dde4b68dda26",
   "metadata": {},
   "source": [
    "## The Actions"
   ]
  },
  {
   "cell_type": "markdown",
   "id": "74fd7cbb-0272-4404-b2e6-172981d98590",
   "metadata": {},
   "source": [
    "Run a function, pre-announcing what will run."
   ]
  },
  {
   "cell_type": "markdown",
   "id": "4f11147d-2d5f-4732-90cd-eae2068e5ebc",
   "metadata": {},
   "source": [
    "> copy a file or folder"
   ]
  },
  {
   "cell_type": "code",
   "execution_count": null,
   "id": "662a52dc-c2b3-400b-be11-664682af2270",
   "metadata": {},
   "outputs": [],
   "source": [
    "def copy(src: Path, dest: Path) -> Boolish:\n",
    "    clean(dest)\n",
    "    if not dest.parent.exists():\n",
    "        dest.parent.mkdir(parents=true)\n",
    "    if src.is_dir():\n",
    "        shutil.copytree(src, dest)\n",
    "    else:\n",
    "        shutil.copy2(src, dest)"
   ]
  },
  {
   "cell_type": "markdown",
   "id": "1fcd91a9-9d5c-442d-9598-9f4cfce99db4",
   "metadata": {},
   "source": [
    "> delete some files or folders"
   ]
  },
  {
   "cell_type": "code",
   "execution_count": null,
   "id": "c88900ef-1248-4d71-b732-2e42763fc920",
   "metadata": {},
   "outputs": [],
   "source": [
    "def clean(*paths: Path, globs: dict[Path, list[str]] = None) -> None:\n",
    "    if globs:\n",
    "        for root, root_globs in globs.items():\n",
    "            for glob in root_globs:\n",
    "                paths = [*paths, *sorted(root.glob(glob))]\n",
    "    for path in paths:\n",
    "        if path.is_dir():\n",
    "            shutil.rmtree(path)\n",
    "        elif path.exists():\n",
    "            path.unlink()"
   ]
  },
  {
   "cell_type": "code",
   "execution_count": null,
   "id": "623ccf75-9546-45a4-8b51-11e38ac2fd6e",
   "metadata": {},
   "outputs": [],
   "source": [
    "class AnnouncingCmdAction(doit.action.CmdAction):\n",
    "    def execute(self, out=None, err=None):\n",
    "        try:\n",
    "            action = self.expand_action()\n",
    "            # set environ to change output buffering\n",
    "            kwargs = self.pkwargs.copy()\n",
    "            print(\">>> in\", kwargs[\"cwd\"])\n",
    "            print(\"\\t\", *action, file=out, flush=True)\n",
    "        except Exception:\n",
    "            pass\n",
    "\n",
    "        return super().execute(out=out, err=err)"
   ]
  },
  {
   "cell_type": "markdown",
   "id": "8feea0f3-5ff5-4b24-b56d-95b46b8b7673",
   "metadata": {},
   "source": [
    "Run a command in a directory."
   ]
  },
  {
   "cell_type": "code",
   "execution_count": null,
   "id": "e85f7357-d82d-4e51-9be4-2f358cea423c",
   "metadata": {},
   "outputs": [],
   "source": [
    "def run(args, kwargs):\n",
    "    if \"cwd\" not in kwargs:\n",
    "        raise ValueError(f\"... a `cwd` is required for {args}\")\n",
    "    return AnnouncingCmdAction(list(map(str, args)), shell=False, **kwargs)"
   ]
  },
  {
   "cell_type": "markdown",
   "id": "ac4814cb-c646-465b-82b2-ba1ea38f2cd5",
   "metadata": {},
   "source": [
    "Run `git` in a directory."
   ]
  },
  {
   "cell_type": "code",
   "execution_count": null,
   "id": "efe22d87-0722-4f3f-be9a-ae07bd8db372",
   "metadata": {},
   "outputs": [],
   "source": [
    "def git(args, kwargs):\n",
    "    return run([\"git\", *args], kwargs)"
   ]
  },
  {
   "cell_type": "code",
   "execution_count": null,
   "id": "b325ae82-c2ca-4a54-8f32-c7a8cdf1fde1",
   "metadata": {},
   "outputs": [],
   "source": [
    "def sha256_some(shasums: Path, root: Path, patterns: list[str]) -> Boolish:\n",
    "    entries = {}\n",
    "    for pattern in patterns:\n",
    "        for p in root.glob(pattern):\n",
    "            if p == shasums:\n",
    "                continue\n",
    "            entries[p.name] = hashlib.sha256(p.read_bytes()).hexdigest()\n",
    "    lines = [f\"{sh}  {p}\" for p, sh in sorted(entries.items())]\n",
    "    if not lines:\n",
    "        raise ValueError(f\"!!! nothing to hash for {shasums}: {patterns}\")\n",
    "    output = \"\\n\".join(lines)\n",
    "    print(output)\n",
    "    shasums.parent.mkdir(exist_ok=True, parents=True)\n",
    "    shasums.write_text(output, encoding=\"utf-8\")"
   ]
  },
  {
   "cell_type": "code",
   "execution_count": null,
   "id": "5ac54d23-453a-4026-bdb0-057f51665389",
   "metadata": {},
   "outputs": [],
   "source": [
    "def resolve_globbish(cwd, globbishes):\n",
    "    resolved = []\n",
    "    for globbish in globbishes:\n",
    "        if callable(globbish):\n",
    "            resolved += sorted(globbish(cwd))\n",
    "        elif isinstance(globbish, str) and \"*\" in globbish:\n",
    "            resolved += [p for p in cwd.glob(globbish) if not p.is_dir()]\n",
    "        elif isinstance(globbish, str):\n",
    "            resolved += [cwd / globbish]\n",
    "        elif hasattr(globbish, \"glob_neighbor\"):\n",
    "            glob_neighbor = globbish.glob_neighbor\n",
    "            if glob_neighbor:\n",
    "                pattern, neighbor = glob_neighbor\n",
    "                for found in resolve_globbish(cwd, [pattern]):\n",
    "                    if \"{\" in neighbor:\n",
    "                        resolved += [\n",
    "                            (found / neighbor.format(stem=found.stem)).resolve(),\n",
    "                        ]\n",
    "                    else:\n",
    "                        resolved += [(found / neighbor).resolve()]\n",
    "        else:\n",
    "            resolved += [globbish]\n",
    "    return sorted(set(resolved))"
   ]
  },
  {
   "cell_type": "code",
   "execution_count": null,
   "id": "c1f6ba78-9cbd-4324-86c9-719fc365aa17",
   "metadata": {},
   "outputs": [],
   "source": [
    "def replace_between(src: Path, dest: Path, delimiter: str) -> Boolish:\n",
    "    src_text = src.read_text(encoding=\"utf-8\")\n",
    "    dest_text = dest.read_text(encoding=\"utf-8\")\n",
    "    src_chunks = src_text.split(delimiter)\n",
    "    dest_chunks = dest_text.split(delimiter)\n",
    "    dest_text = delimiter.join([dest_chunks[0], src_chunks[1], dest_chunks[2]])\n",
    "    dest.write_text(dest_text, encoding=\"utf-8\")"
   ]
  },
  {
   "cell_type": "code",
   "execution_count": null,
   "id": "af252d92-5cbb-4ccc-8e73-fac27d10d69e",
   "metadata": {},
   "outputs": [],
   "source": [
    "def transform_one(src: Path, dest: Path):\n",
    "    import json\n",
    "\n",
    "    import tomli_w\n",
    "    import yaml\n",
    "\n",
    "    try:\n",
    "        import tomllib\n",
    "    except ImportError:\n",
    "        pass\n",
    "\n",
    "    src_text = src.read_text(encoding=\"utf-8\")\n",
    "\n",
    "    if src.name.endswith(\"json\"):\n",
    "        data = json.loads(src_text)\n",
    "    elif src.name.endswith(\"toml\"):\n",
    "        data = tomli.loads(src_text)\n",
    "    elif src.name.endswith(\"yaml\") or src.name.endswith(\"yml\"):\n",
    "        data = yaml.safe_load(src_text)\n",
    "    else:\n",
    "        return False\n",
    "\n",
    "    if dest.name.endswith(\"json\"):\n",
    "        dest_text = json.dumps(data, indent=2)\n",
    "    elif dest.name.endswith(\"toml\"):\n",
    "        dest_text = tomli_w.dumps(data)\n",
    "    elif dest.name.endswith(\"yaml\") or dest.name.endswith(\"yml\"):\n",
    "        dest_text = yaml.safe_dump(data, default_flow_style=False, sort_keys=False)\n",
    "    else:\n",
    "        return False\n",
    "    dest.parent.mkdir(exist_ok=True, parents=True)\n",
    "    dest.write_text(dest_text, encoding=\"utf-8\")"
   ]
  },
  {
   "cell_type": "code",
   "execution_count": null,
   "id": "ba2b461d-a887-4931-a59f-1b73e5b6abf0",
   "metadata": {},
   "outputs": [],
   "source": [
    "def get_parser_dumper(path: Path):\n",
    "    if path.name.endswith(\"toml\"):\n",
    "        try:\n",
    "            import tomllib\n",
    "        except:\n",
    "            import tomli as tomllib\n",
    "        import tomli_w\n",
    "\n",
    "        return tomllib.loads, tomli_w.dumps\n",
    "\n",
    "    if path.name.endswith(\"json\"):\n",
    "        import json\n",
    "\n",
    "        return json.loads, lambda data, **kwargs: json.dumps(data, **kwargs, indent=2)\n",
    "\n",
    "    if path.name.endswith(\"yaml\") or path.name.endswith(toml):\n",
    "        import yaml\n",
    "\n",
    "        return yaml.safe_load, lambda data, **kwargs: yaml.safe_dump(\n",
    "            data, default_flow_style=False, sort_keys=False\n",
    "        )\n",
    "\n",
    "    raise ValueError(f\"no parser for {path}\")"
   ]
  },
  {
   "cell_type": "code",
   "execution_count": null,
   "id": "03c1cbdd-b116-466a-9f4e-290c28bc316e",
   "metadata": {},
   "outputs": [],
   "source": [
    "def validate_one(schema_path: Path, instance_path: Path | None = None) -> Boolish:\n",
    "    import jsonschema\n",
    "\n",
    "    parse_schema = get_parser_dumper(schema_path)[0]\n",
    "    schema = parse_schema(schema_path.read_text(encoding=\"utf-8\"))\n",
    "    jsonschema.Draft7Validator.check_schema(schema)\n",
    "    validator = jsonschema.Draft7Validator(\n",
    "        schema, format_checker=jsonschema.Draft7Validator.format_checker\n",
    "    )\n",
    "    if instance_path:\n",
    "        parse_instance = get_parser_dumper(instance_path)[0]\n",
    "        instance = parse_instance(instance_path.read_text(encoding=\"utf-8\"))\n",
    "        errors = [*validator.iter_errors(instance)]\n",
    "        if errors:\n",
    "            pprint.pprint(errors)\n",
    "            return False"
   ]
  },
  {
   "cell_type": "code",
   "execution_count": null,
   "id": "f4089555-b5c0-41a7-b839-fdcc23603c8f",
   "metadata": {},
   "outputs": [],
   "source": [
    "def fetch_one(self, url, dest):\n",
    "    if dest.exists():\n",
    "        self.log.info(f\"already downloaded {dest.name}, skipping...\")\n",
    "        return\n",
    "\n",
    "    if not dest.parent.exists():\n",
    "        dest.parent.mkdir(parents=True)\n",
    "\n",
    "    with tempfile.TemporaryDirectory() as td:\n",
    "        tdp = Path(td)\n",
    "        with urllib.request.urlopen(url) as response:  # noqa: S310\n",
    "            tmp_dest = tdp / dest.name\n",
    "            with tmp_dest.open(\"wb\") as fd:\n",
    "                shutil.copyfileobj(response, fd)\n",
    "            last_modified = response.headers.get(\"Last-Modified\")\n",
    "            if last_modified:\n",
    "                epoch_time = time.mktime(email.utils.parsedate(last_modified))\n",
    "                os.utime(tmp_dest, (epoch_time, epoch_time))\n",
    "        shutil.copy2(tmp_dest, dest)"
   ]
  },
  {
   "cell_type": "code",
   "execution_count": null,
   "id": "e1048646-31d0-4567-9af6-5f4470f49e4a",
   "metadata": {},
   "outputs": [],
   "source": [
    "def extract_one(archive: Path, dest: Path):\n",
    "    \"\"\"Extract the contents of an archive to a path.\"\"\"\n",
    "    import libarchive\n",
    "\n",
    "    clean(dest)\n",
    "\n",
    "    dest.mkdir(parents=True)\n",
    "\n",
    "    old_cwd = os.getcwd()\n",
    "    os.chdir(str(dest))\n",
    "    try:\n",
    "        libarchive.extract_file(str(archive))\n",
    "    finally:\n",
    "        os.chdir(old_cwd)"
   ]
  }
 ],
 "metadata": {
  "kernelspec": {
   "display_name": "Python 3 (ipykernel)",
   "language": "python",
   "name": "python3"
  },
  "language_info": {
   "codemirror_mode": {
    "name": "ipython",
    "version": 3
   },
   "file_extension": ".py",
   "mimetype": "text/x-python",
   "name": "python",
   "nbconvert_exporter": "python",
   "pygments_lexer": "ipython3",
   "version": "3.11.6"
  }
 },
 "nbformat": 4,
 "nbformat_minor": 5
}
