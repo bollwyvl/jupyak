{
 "cells": [
  {
   "cell_type": "markdown",
   "id": "4b8fa94a-9938-4d4d-9212-b8981f5520d1",
   "metadata": {},
   "source": [
    "# notebook\n",
    "\n",
    "> [`notebook`](https://github.com/jupyter/notebook) is a document-per-browser-tab interactive computing environment built on `jupyterlab` "
   ]
  },
  {
   "cell_type": "code",
   "execution_count": null,
   "id": "2f02033a-8284-4d5d-a598-2dc8c0228dbd",
   "metadata": {},
   "outputs": [],
   "source": [
    "NAME = \"notebook\"\n",
    "GH_ORG = \"jupyter\"\n",
    "JS_NS = \"@jupyter-notebook\"\n",
    "URL = f\"https://github.com/{GH_ORG}/{NAME}\""
   ]
  },
  {
   "cell_type": "code",
   "execution_count": null,
   "id": "ccbe8b70-15fb-4b2c-824c-1635e479c466",
   "metadata": {},
   "outputs": [],
   "source": [
    "import importnb\n",
    "\n",
    "with importnb.Notebook():\n",
    "    from jupyak.tasks import __jupyterlab, __lumino\n",
    "    from jupyak.tasks import _well_known as W\n",
    "    from jupyak.tasks import _yak as Y"
   ]
  },
  {
   "cell_type": "markdown",
   "id": "868ca23d-757e-4c31-8bea-dfb10fd75f43",
   "metadata": {},
   "source": [
    "## schema"
   ]
  },
  {
   "cell_type": "markdown",
   "id": "f9ca2e69-1553-4bb9-b00d-35c40a700220",
   "metadata": {},
   "source": [
    "## tasks"
   ]
  },
  {
   "cell_type": "markdown",
   "id": "7aa48981-f2ef-41f9-aab9-7bb5b783e086",
   "metadata": {},
   "source": [
    "Exclude some packages by npm name from linking. These manifest during webpack builds as:\n",
    "\n",
    "```bash\n",
    "[webpack-cli] Error: Cannot find module '@jupyterlab/nbconvert-css/package.json'\n",
    "```"
   ]
  },
  {
   "cell_type": "code",
   "execution_count": null,
   "id": "cd663e93-e650-4956-aecc-9f7f2613058a",
   "metadata": {},
   "outputs": [],
   "source": [
    "lab_excludes = \"|\".join(\n",
    "    [\n",
    "        \"help-extension\",\n",
    "        \"inspector-extension\",\n",
    "        \"launcher-extension\",\n",
    "        \"logconsole-extension\",\n",
    "        \"nbconvert-css\",\n",
    "        \"pluginmanager-extension\",\n",
    "        \"rendermime-extension\",\n",
    "        \"statusbar-extension\",\n",
    "        \"template\",\n",
    "    ],\n",
    ")\n",
    "js_dep_exclude_patterns = [rf\"^@jupyterlab/({lab_excludes})$\"]"
   ]
  },
  {
   "cell_type": "markdown",
   "id": "2b8373a2-2de3-4dda-8477-4a92b77d9cb6",
   "metadata": {},
   "source": [
    "Exclude some packages from being built and linked into other repos. "
   ]
  },
  {
   "cell_type": "code",
   "execution_count": null,
   "id": "b3ee3656",
   "metadata": {},
   "outputs": [],
   "source": [
    "js_dist_exclude_patterns = [\n",
    "    \"/_metapackage\",\n",
    "    \"/app\",\n",
    "    \"/buildutils\",\n",
    "]"
   ]
  },
  {
   "cell_type": "code",
   "execution_count": null,
   "id": "3bcd6ef3-aa90-427b-88df-fde38f04065c",
   "metadata": {},
   "outputs": [],
   "source": [
    "ext = \"packages/lab-extension\"\n",
    "mp = \"packages/_metapackage\"\n",
    "mp_tsbi = f\"{mp}/{W.TSCONFIG_BUILDINFO}\"\n",
    "ext = \"packages/lab-extension\"\n",
    "py_ext = \"notebook/labextension\"\n",
    "js_bundle = \"notebook/static/bundle.js\"\n",
    "py_ext_style = f\"{py_ext}/static/style.js\"\n",
    "ext_tsbi = f\"{ext}/{W.TSCONFIG_BUILDINFO}\""
   ]
  },
  {
   "cell_type": "code",
   "execution_count": null,
   "id": "f9616560-850d-40e8-9a6b-cc2f0d0bf7b9",
   "metadata": {},
   "outputs": [],
   "source": [
    "JS_DIST_TASKS = {\n",
    "    \"./packages/_metapackage/\": [\n",
    "        {\n",
    "            \"name\": \"meta:build\",\n",
    "            \"actions\": [[\"yarn\", \"build\"]],\n",
    "            \"file_dep\": [\n",
    "                f\"../lumino/packages/*/{W.TSCONFIG_BUILDINFO}\",\n",
    "                f\"../jupyterlab/packages/*/{W.TSCONFIG_BUILDINFO}\",\n",
    "                \"packages/*/src/**/*.ts\",\n",
    "                \"packages/*/src/**/*.tsx\",\n",
    "            ],\n",
    "            \"targets\": [mp_tsbi, ext_tsbi],\n",
    "        },\n",
    "    ],\n",
    "    \"./app/\": [\n",
    "        {\n",
    "            \"name\": \"app:build:prod\",\n",
    "            \"actions\": [[\"yarn\", \"build:prod\"]],\n",
    "            \"file_dep\": [\n",
    "                mp_tsbi,\n",
    "                \"packages/*/schema/*.json\",\n",
    "                \"packages/*/style/**/*.css\",\n",
    "                \"packages/*/style/**/*.svg\",\n",
    "                \"packages/*/style/**/*.js\",\n",
    "            ],\n",
    "            \"targets\": [js_bundle],\n",
    "        },\n",
    "    ],\n",
    "}"
   ]
  },
  {
   "cell_type": "code",
   "execution_count": null,
   "id": "6f8ebcdc-0593-4491-b3be-7143ddde074d",
   "metadata": {},
   "outputs": [],
   "source": [
    "LAB_EXT = {\n",
    "    f\"./{ext}/\": {\n",
    "        \"file_dep\": [ext_tsbi],\n",
    "        \"targets\": [f\"{py_ext}/{W.PACKAGE_JSON}\", py_ext_style],\n",
    "    },\n",
    "}"
   ]
  },
  {
   "cell_type": "code",
   "execution_count": null,
   "id": "6842048f-aa59-4a9d-b896-ef20e7ac49f0",
   "metadata": {},
   "outputs": [],
   "source": [
    "DEFAULTS = {\n",
    "    \"name\": NAME,\n",
    "    \"github\": {\"url\": URL},\n",
    "    \"py\": {\n",
    "        \"dependencies\": [\n",
    "            __jupyterlab.NAME,\n",
    "        ],\n",
    "        \"lab_extensions\": LAB_EXT,\n",
    "        \"file_dep\": [\n",
    "            js_bundle,\n",
    "            py_ext_style,\n",
    "        ],\n",
    "    },\n",
    "    \"js\": {\n",
    "        \"dependencies\": [\n",
    "            __lumino.NAME,\n",
    "            __jupyterlab.NAME,\n",
    "        ],\n",
    "        \"link_exclude_patterns\": js_dep_exclude_patterns,\n",
    "        \"dist_exclude_patterns\": js_dist_exclude_patterns,\n",
    "        \"tasks\": JS_DIST_TASKS,\n",
    "    },\n",
    "}"
   ]
  },
  {
   "cell_type": "code",
   "execution_count": null,
   "id": "9d83da71-8989-47d1-8554-29c743782d9b",
   "metadata": {},
   "outputs": [],
   "source": [
    "@Y.Yak.repo(\n",
    "    NAME,\n",
    "    tuple(DEFAULTS[\"py\"][\"dependencies\"] + DEFAULTS[\"js\"][\"dependencies\"]),\n",
    ")\n",
    "def default_factory(yak: Y.Yak):\n",
    "    return DEFAULTS"
   ]
  }
 ],
 "metadata": {
  "kernelspec": {
   "display_name": "Python 3 (ipykernel)",
   "language": "python",
   "name": "python3"
  },
  "language_info": {
   "codemirror_mode": {
    "name": "ipython",
    "version": 3
   },
   "file_extension": ".py",
   "mimetype": "text/x-python",
   "name": "python",
   "nbconvert_exporter": "python",
   "pygments_lexer": "ipython3",
   "version": "3.11.6"
  }
 },
 "nbformat": 4,
 "nbformat_minor": 5
}
