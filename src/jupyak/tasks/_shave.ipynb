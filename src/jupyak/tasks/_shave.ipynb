{
 "cells": [
  {
   "cell_type": "markdown",
   "id": "773862c1-71cd-4286-ad17-65e6aee5a6cc",
   "metadata": {},
   "source": [
    "# shave\n",
    "\n",
    "the actual work cloning, provisioning, and building a preview site"
   ]
  },
  {
   "cell_type": "code",
   "execution_count": null,
   "id": "37548696-854b-4aeb-87c7-4c7068716738",
   "metadata": {},
   "outputs": [],
   "source": [
    "import importnb\n",
    "\n",
    "with importnb.Notebook():\n",
    "    from jupyak.tasks import _conda as C\n",
    "    from jupyak.tasks import _git as G\n",
    "    from jupyak.tasks import _js as J\n",
    "    from jupyak.tasks import _lite as L\n",
    "    from jupyak.tasks import _py as P\n",
    "    from jupyak.tasks._yak import Yak"
   ]
  },
  {
   "cell_type": "markdown",
   "id": "8e7b91b1-ba57-430b-827b-71bf3d1ba411",
   "metadata": {},
   "source": [
    "> this uses a semi-nasty global to deal with"
   ]
  },
  {
   "cell_type": "code",
   "execution_count": null,
   "id": "88388622-2c6d-4b9d-85af-a84f9fa92fb8",
   "metadata": {},
   "outputs": [],
   "source": [
    "_YAK: Yak = None"
   ]
  },
  {
   "cell_type": "code",
   "execution_count": null,
   "id": "b6a9685e-a0e0-4bad-a755-0e06ebeccf43",
   "metadata": {},
   "outputs": [],
   "source": [
    "def _ensure_yak() -> Yak:\n",
    "    global _YAK\n",
    "    if _YAK is None:\n",
    "        _YAK = Yak()\n",
    "    return _YAK"
   ]
  },
  {
   "cell_type": "markdown",
   "id": "b634c414-5d65-41bd-8642-48e507d5aae5",
   "metadata": {},
   "source": [
    "> check out the repos"
   ]
  },
  {
   "cell_type": "code",
   "execution_count": null,
   "id": "8ede5dff-0900-40ac-8c72-fbb45a8ba12e",
   "metadata": {},
   "outputs": [],
   "source": [
    "def task_git():\n",
    "    yak = _ensure_yak()\n",
    "    yield from G.yak_git_tasks(yak)\n",
    "    for name, repo in yak.repos.items():\n",
    "        yield from G.repo_git_tasks(repo)"
   ]
  },
  {
   "cell_type": "markdown",
   "id": "d4fa75fd-7517-4ada-b69a-97f5e8bb09b5",
   "metadata": {},
   "source": [
    "> ensure a sane working `conda` environment with `mamba`"
   ]
  },
  {
   "cell_type": "code",
   "execution_count": null,
   "id": "efb8f2a5-05ad-4a3f-9e6f-b1ff042f9d7e",
   "metadata": {},
   "outputs": [],
   "source": [
    "def task_env():\n",
    "    yak = _ensure_yak()\n",
    "    yield from C.conda_tasks(yak)"
   ]
  },
  {
   "cell_type": "code",
   "execution_count": null,
   "id": "2547266e-f645-4402-bc40-f2934c53884e",
   "metadata": {},
   "outputs": [],
   "source": [
    "def task_js():\n",
    "    yak = _ensure_yak()\n",
    "\n",
    "    yield from J.js_hack_tasks(yak)\n",
    "\n",
    "    for name, repo in yak.js_repos.items():\n",
    "        yield from J.js_repo_tasks(repo)"
   ]
  },
  {
   "cell_type": "markdown",
   "id": "39d8fa3c-90c5-4a7c-a83b-50ae776853dc",
   "metadata": {},
   "source": [
    "> perform a minimal install of a python repo"
   ]
  },
  {
   "cell_type": "code",
   "execution_count": null,
   "id": "ae699a4e-ea09-41e1-b309-7259ac102735",
   "metadata": {},
   "outputs": [],
   "source": [
    "def task_py():\n",
    "    yak = _ensure_yak()\n",
    "    for name, repo in yak.py_repos.items():\n",
    "        yield from P.py_repo_tasks(repo)"
   ]
  },
  {
   "cell_type": "code",
   "execution_count": null,
   "id": "fdcb1b12-a99c-4e12-8e8c-a5da5ad91735",
   "metadata": {},
   "outputs": [],
   "source": [
    "def task_lite():\n",
    "    yak = _ensure_yak()\n",
    "    yield from L.lite_tasks(yak)"
   ]
  }
 ],
 "metadata": {
  "kernelspec": {
   "display_name": "Python 3 (ipykernel)",
   "language": "python",
   "name": "python3"
  },
  "language_info": {
   "codemirror_mode": {
    "name": "ipython",
    "version": 3
   },
   "file_extension": ".py",
   "mimetype": "text/x-python",
   "name": "python",
   "nbconvert_exporter": "python",
   "pygments_lexer": "ipython3",
   "version": "3.11.6"
  }
 },
 "nbformat": 4,
 "nbformat_minor": 5
}
