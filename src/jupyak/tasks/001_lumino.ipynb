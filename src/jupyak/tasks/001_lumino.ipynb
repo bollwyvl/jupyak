{
 "cells": [
  {
   "cell_type": "markdown",
   "id": "6b892d55-e646-4964-8230-b04db31fdfb4",
   "metadata": {},
   "source": [
    "# lumino\n",
    "\n",
    "[`lumino`](https://github.com/jupyterlab/lumino) is browser-based application toolkit used for building modern, composable Jupyter clients, including `@jupyterlab`, `@jupyterlite`, and `@jupyter-widgets`"
   ]
  },
  {
   "cell_type": "code",
   "execution_count": null,
   "id": "2c7c2cff-d44c-46d4-80f7-b40cbce11407",
   "metadata": {},
   "outputs": [],
   "source": [
    "NAME = \"lumino\"\n",
    "JS_NS = \"@lumino\"\n",
    "GH_ORG = \"jupyterlab\"\n",
    "URL = f\"https://github.com/{GH_ORG}/{NAME}\""
   ]
  },
  {
   "cell_type": "code",
   "execution_count": null,
   "id": "101b458b-f951-4de5-9b55-50e3f9d74a1d",
   "metadata": {},
   "outputs": [],
   "source": [
    "import importnb\n",
    "\n",
    "with importnb.Notebook():\n",
    "    from jupyak.tasks import _well_known as W\n",
    "    from jupyak.tasks import _yak as Y"
   ]
  },
  {
   "cell_type": "code",
   "execution_count": null,
   "id": "cd5baae5-2220-4d7d-8b25-187f8ff4b615",
   "metadata": {},
   "outputs": [],
   "source": [
    "JS_DIST_TASKS = {\n",
    "    \"./\": [\n",
    "        {\n",
    "            \"name\": \"build\",\n",
    "            \"actions\": [[\"yarn\", \"build\"]],\n",
    "            \"file_dep\": [\"packages/*/src/**/*.ts\", \"packages/*/tsconfig.json\"],\n",
    "            \"targets\": [\n",
    "                {\n",
    "                    \"glob_neighbor\": [\n",
    "                        \"packages/*/tsconfig.json\",\n",
    "                        f\"../{W.TSCONFIG_BUILDINFO}\",\n",
    "                    ],\n",
    "                },\n",
    "            ],\n",
    "        },\n",
    "    ],\n",
    "}"
   ]
  },
  {
   "cell_type": "code",
   "execution_count": null,
   "id": "2230482f-32b9-4ae9-8a7a-a5c96c8b2d1f",
   "metadata": {},
   "outputs": [],
   "source": [
    "DEFAULTS = {\n",
    "    \"name\": NAME,\n",
    "    \"github\": {\"url\": URL},\n",
    "    \"js\": {\n",
    "        \"dist_exclude_patterns\": [\n",
    "            \"/buildutils\",\n",
    "            \"/default-theme\",\n",
    "            \"/example\",\n",
    "        ],\n",
    "        \"tasks\": JS_DIST_TASKS,\n",
    "        \"install_exclude_resolutions\": [\"@jupyterlab/buildutils\"],\n",
    "    },\n",
    "}"
   ]
  },
  {
   "cell_type": "markdown",
   "id": "6f344e21-7d0c-4f72-be8c-3b41dfa0710d",
   "metadata": {},
   "source": [
    "## schema"
   ]
  },
  {
   "cell_type": "code",
   "execution_count": null,
   "id": "90d2ad84-495e-424d-9105-eb34002e80bb",
   "metadata": {},
   "outputs": [],
   "source": [
    "@Y.Yak.repo(NAME)\n",
    "def default_factory(yak: Y.Yak):\n",
    "    return DEFAULTS"
   ]
  }
 ],
 "metadata": {
  "kernelspec": {
   "display_name": "Python 3 (ipykernel)",
   "language": "python",
   "name": "python3"
  },
  "language_info": {
   "codemirror_mode": {
    "name": "ipython",
    "version": 3
   },
   "file_extension": ".py",
   "mimetype": "text/x-python",
   "name": "python",
   "nbconvert_exporter": "python",
   "pygments_lexer": "ipython3",
   "version": "3.11.6"
  }
 },
 "nbformat": 4,
 "nbformat_minor": 5
}
