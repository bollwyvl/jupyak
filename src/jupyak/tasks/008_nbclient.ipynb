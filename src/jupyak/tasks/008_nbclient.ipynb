{
 "cells": [
  {
   "cell_type": "markdown",
   "id": "af75e994-ac77-4cbd-aec9-cc669968d08c",
   "metadata": {},
   "source": [
    "# nbclient\n",
    "\n",
    "[`nbclient`](https://github.com/jupyter/nbclient) provides a headless kernel execution environment."
   ]
  },
  {
   "cell_type": "code",
   "execution_count": null,
   "id": "f5d04000-7bba-4a64-8bb3-5039617f9e4b",
   "metadata": {},
   "outputs": [],
   "source": [
    "NAME = \"nbclient\"\n",
    "GH_ORG = \"jupyter\"\n",
    "URL = f\"https://github.com/{GH_ORG}/{NAME}\""
   ]
  },
  {
   "cell_type": "code",
   "execution_count": null,
   "id": "101b458b-f951-4de5-9b55-50e3f9d74a1d",
   "metadata": {},
   "outputs": [],
   "source": [
    "import importnb\n",
    "\n",
    "with importnb.Notebook():\n",
    "    from jupyak.tasks import __jupyter_client, __jupyter_core, __nbformat, __traitlets\n",
    "    from jupyak.tasks import _yak as Y"
   ]
  },
  {
   "cell_type": "code",
   "execution_count": null,
   "id": "c5e1af61-f95b-43d8-b57f-ced8ff5fb1e6",
   "metadata": {},
   "outputs": [],
   "source": [
    "DEFAULTS = {\n",
    "    \"name\": NAME,\n",
    "    \"github\": {\"url\": URL},\n",
    "    \"py\": {\n",
    "        \"dependencies\": [\n",
    "            __jupyter_core.NAME,\n",
    "            __jupyter_client.NAME,\n",
    "            __nbformat.NAME,\n",
    "            __traitlets.NAME,\n",
    "        ],\n",
    "    },\n",
    "}"
   ]
  },
  {
   "cell_type": "markdown",
   "id": "04012c7c-f353-4925-ad82-4dbdea484c13",
   "metadata": {},
   "source": [
    "## schema"
   ]
  },
  {
   "cell_type": "code",
   "execution_count": null,
   "id": "a17a0951-b5a0-4194-8756-70fee3c02190",
   "metadata": {},
   "outputs": [],
   "source": [
    "@Y.Yak.repo(NAME, tuple(DEFAULTS[\"py\"][\"dependencies\"]))\n",
    "def default_factory(yak: Y.Yak):\n",
    "    return DEFAULTS"
   ]
  }
 ],
 "metadata": {
  "kernelspec": {
   "display_name": "Python 3 (ipykernel)",
   "language": "python",
   "name": "python3"
  },
  "language_info": {
   "codemirror_mode": {
    "name": "ipython",
    "version": 3
   },
   "file_extension": ".py",
   "mimetype": "text/x-python",
   "name": "python",
   "nbconvert_exporter": "python",
   "pygments_lexer": "ipython3",
   "version": "3.11.6"
  }
 },
 "nbformat": 4,
 "nbformat_minor": 5
}
