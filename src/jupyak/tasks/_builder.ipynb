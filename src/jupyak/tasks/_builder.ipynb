{
 "cells": [
  {
   "cell_type": "markdown",
   "id": "9764fe5e-42d3-4d82-bf4d-0166cf8ade28",
   "metadata": {},
   "source": [
    "# builder\n",
    "\n",
    "An `ipywidgets`-based builder for `jupyak` config files."
   ]
  },
  {
   "cell_type": "code",
   "execution_count": null,
   "id": "b2001fe0-4656-4b21-aa6f-0317522956a9",
   "metadata": {},
   "outputs": [],
   "source": [
    "if \"pyodide\" in __import__(\"sys\").modules:\n",
    "    %pip install jupyak ipywidgets tomli-w"
   ]
  },
  {
   "cell_type": "code",
   "execution_count": null,
   "id": "2388cbd7-f324-48d3-ba12-81bf0463b10c",
   "metadata": {},
   "outputs": [],
   "source": [
    "import urllib.parse\n",
    "\n",
    "import importnb\n",
    "import traitlets as T\n",
    "from IPython import display as D\n",
    "\n",
    "with importnb.Notebook():\n",
    "    import jupyak.tasks._yak as Y\n",
    "    from jupyak.tasks import load_tasks"
   ]
  },
  {
   "cell_type": "code",
   "execution_count": null,
   "id": "126d5cb4-ba12-4398-90b3-7218354990c6",
   "metadata": {},
   "outputs": [],
   "source": [
    "try:\n",
    "    import ipywidgets as W\n",
    "except ImportError:\n",
    "    pass"
   ]
  },
  {
   "cell_type": "code",
   "execution_count": null,
   "id": "b8b27b32-4b0a-42a3-b7dd-06a1a576f0ed",
   "metadata": {},
   "outputs": [],
   "source": [
    "URL = \"https://github.com/deathbeds/jupyak/new/main\""
   ]
  },
  {
   "cell_type": "code",
   "execution_count": null,
   "id": "4dfe80c4-01e1-460a-ac0f-4a540b371686",
   "metadata": {},
   "outputs": [],
   "source": [
    "as_column = dict(layout=dict(flex_flow=\"column\", align_items=\"stretch\"))"
   ]
  },
  {
   "cell_type": "code",
   "execution_count": null,
   "id": "cfda4fa3-9c91-4b59-b75b-01c34d592459",
   "metadata": {},
   "outputs": [],
   "source": [
    "def make_select(owner: \"W.Widget\", trait_name: str, **kwargs):\n",
    "    select = W.Select(**kwargs)\n",
    "    T.link((owner, trait_name), (select, \"value\"))\n",
    "    return select"
   ]
  },
  {
   "cell_type": "code",
   "execution_count": null,
   "id": "aa02dad5-ee81-4691-8f4a-7ed6625fb4be",
   "metadata": {},
   "outputs": [],
   "source": [
    "def make_split_textarea(owner: \"W.Widget\", trait_name: str, **kwargs):\n",
    "    text = W.Textarea(**kwargs)\n",
    "    error = W.HTML(layout=dict(display=\"none\"))\n",
    "\n",
    "    def on_value(*_):\n",
    "        new_value = \"\\n\".join(getattr(owner, trait_name))\n",
    "        if new_value != text.value:\n",
    "            text.value = new_value\n",
    "\n",
    "    def on_text(*_):\n",
    "        new_value = tuple(text.value.split(\"\\n\"))\n",
    "        if getattr(owner, trait_name) != new_value:\n",
    "            try:\n",
    "                setattr(owner, trait_name, new_value)\n",
    "                error.layout.display = \"none\"\n",
    "                error.value = \"\"\n",
    "            except Exception as err:\n",
    "                error.value = f\"<details><summary>errors...</summary>{err}</details>\"\n",
    "                error.layout.display = \"block\"\n",
    "\n",
    "    owner.observe(on_value, trait_name)\n",
    "    text.observe(on_text, \"value\")\n",
    "    on_value()\n",
    "    return W.VBox([text, error])"
   ]
  },
  {
   "cell_type": "code",
   "execution_count": null,
   "id": "8e6bd32a-64a0-498c-b286-c8a531c2a3b9",
   "metadata": {},
   "outputs": [],
   "source": [
    "def make_github(gh: Y.GitHub):\n",
    "    label = W.HTML(\"<h4>github</h4>\")\n",
    "    url = W.Text(description=\"URL\", **as_column)\n",
    "    baseline = W.Text(description=\"baseline\", **as_column)\n",
    "    merge_with = make_split_textarea(\n",
    "        gh,\n",
    "        \"merge_with\",\n",
    "        description=\"merge with\",\n",
    "        placeholder=\"\\n\".join(\n",
    "            [\"pull/{:number}\", \"tree/{:branch}\", \"releases/tags/{:tag}\"]\n",
    "        ),\n",
    "        rows=3,\n",
    "        **as_column,\n",
    "    )\n",
    "    strategy = make_select(\n",
    "        gh,\n",
    "        \"merge_strategy\",\n",
    "        description=\"strategy\",\n",
    "        options=[\"\", \"ort\", \"resolve\", \"octopus\", \"ours\", \"subtree\"],\n",
    "        rows=1,\n",
    "        **as_column,\n",
    "    )\n",
    "    options = make_split_textarea(\n",
    "        gh,\n",
    "        \"merge_options\",\n",
    "        description=\"options\",\n",
    "        placeholder=\"\\n\".join(\n",
    "            [\"theirs\", \"ours\", \"diff-algorithm=[patience|minimal|histogram|myers]\"]\n",
    "        ),\n",
    "        rows=3,\n",
    "        **as_column,\n",
    "    )\n",
    "    T.link((gh, \"baseline\"), (baseline, \"value\"))\n",
    "    T.link((gh, \"url\"), (url, \"value\"))\n",
    "    return W.HBox([label, url, baseline, merge_with, strategy, options])"
   ]
  },
  {
   "cell_type": "code",
   "execution_count": null,
   "id": "04496d22-081d-4d8c-ad64-093e8c9417f1",
   "metadata": {},
   "outputs": [],
   "source": [
    "def make_repo(repo: Y.Repo, yak: Y.Yak):\n",
    "    label = W.HTML()\n",
    "    name = W.Text(description=\"repo name\")\n",
    "    remove = W.Button(icon=\"trash\", button_style=\"warning\")\n",
    "    gh = make_github(repo.github)\n",
    "\n",
    "    T.link((repo, \"name\"), (name, \"value\"))\n",
    "    T.dlink((repo, \"name\"), (label, \"value\"), lambda x: f\"<h3>{x}</h3>\")\n",
    "    T.dlink((repo, \"name\"), (remove, \"description\"), lambda x: f\"remove {x}\")\n",
    "\n",
    "    @remove.on_click\n",
    "    def on_remove(*_):\n",
    "        yak.repos = {k: v for k, v in yak.repos.items() if v != repo}\n",
    "\n",
    "    return W.VBox(\n",
    "        [\n",
    "            W.HBox([label, W.HBox([name, remove])]),\n",
    "            gh,\n",
    "        ]\n",
    "    )"
   ]
  },
  {
   "cell_type": "code",
   "execution_count": null,
   "id": "50eed133-9032-4a4a-ba19-a983c0fb8c44",
   "metadata": {},
   "outputs": [],
   "source": [
    "def make_add_known(yak: Y.Yak):\n",
    "    old_repos = yak.repos\n",
    "    select_repo = W.Select(options=old_repos, rows=1)\n",
    "    add_known = W.Button(\n",
    "        icon=\"wrench\", description=\"customize repo\", button_style=\"success\"\n",
    "    )\n",
    "\n",
    "    def on_repos_change(*_):\n",
    "        select_repo.options = {\n",
    "            k: v for k, v in old_repos.items() if v not in yak.repos.values()\n",
    "        }\n",
    "\n",
    "    yak.observe(on_repos_change, \"repos\")\n",
    "\n",
    "    @add_known.on_click\n",
    "    def _on_add_known(*_):\n",
    "        repo = select_repo.value\n",
    "        if repo is None:\n",
    "            return\n",
    "        yak.repos = {**yak.repos, repo.name: repo}\n",
    "        select_repo.options = {\n",
    "            k: v for k, v in dict(select_repo.options).items() if v != repo\n",
    "        }\n",
    "\n",
    "    return W.HBox([select_repo, add_known])"
   ]
  },
  {
   "cell_type": "code",
   "execution_count": null,
   "id": "97c4dd8f-59c2-411a-8f6b-6eee798a7650",
   "metadata": {},
   "outputs": [],
   "source": [
    "def make_add_custom(yak: Y.Yak):\n",
    "    custom_name = W.Text(placeholder=\"repo name\")\n",
    "    add_custom = W.Button(\n",
    "        icon=\"plus-square\", description=\"add custom repo\", button_style=\"primary\"\n",
    "    )\n",
    "    return W.HBox([custom_name, add_custom])"
   ]
  },
  {
   "cell_type": "code",
   "execution_count": null,
   "id": "2ecce1c2-88a2-44ef-b054-2ea0c4a92f0f",
   "metadata": {},
   "outputs": [],
   "source": [
    "def make_repos(yak: Y.Yak):\n",
    "    add_known = make_add_known(yak)\n",
    "    add_custom = make_add_custom(yak)\n",
    "    repos = W.VBox()\n",
    "    label = W.HTML()\n",
    "\n",
    "    def on_repo(*_):\n",
    "        children = {r.repo: r for r in repos.children if r in yak.repos.values()}\n",
    "        [\n",
    "            children.update({repo: make_repo(repo, yak)})\n",
    "            for repo in yak.repos.values()\n",
    "            if repo not in children\n",
    "        ]\n",
    "        repos.children = tuple(children.values())\n",
    "        label.value = f\"<h2>repos ({len(repos.children)})</h2>\"\n",
    "\n",
    "    yak.observe(on_repo, \"repos\")\n",
    "    on_repo()\n",
    "    return W.VBox([W.HBox([label, add_known, add_custom]), repos])"
   ]
  },
  {
   "cell_type": "code",
   "execution_count": null,
   "id": "739e16cc-6c13-4a94-8b47-19b941ae411e",
   "metadata": {},
   "outputs": [],
   "source": [
    "def make_serialized(yak: Y.Yak):\n",
    "    observing = {yak: True, yak.lite: True, yak.env: True}\n",
    "    link = W.HTML(style={\"color\": \"var(--jp-brand-color1)\"})\n",
    "    toml = W.Textarea(\n",
    "        description=\".toml\",\n",
    "        rows=20,\n",
    "        layout=dict(\n",
    "            flex_flow=\"column\", align_items=\"stretch\", width=\"99%\", display=\"none\"\n",
    "        ),\n",
    "    )\n",
    "\n",
    "    def on_change(*_):\n",
    "        import tomli_w\n",
    "\n",
    "        toml_text = tomli_w.dumps(yak.to_dict())\n",
    "        if not toml_text:\n",
    "            toml.layout.display = link.layout.display = \"none\"\n",
    "            return\n",
    "        toml.value = toml_text\n",
    "        params = {\"filename\": \"jupyak_config.toml\", \"value\": toml_text}\n",
    "        url = f\"{URL}?{urllib.parse.urlencode(params)}\"\n",
    "        link.value = f\"\"\"\n",
    "        <a href=\"{url}\" target=\"_blank\" class=\"jpyk-big-button\">\n",
    "            <i class=\"fab fa-github-alt\"></i>\n",
    "            start pull request\n",
    "        </a>\n",
    "        \"\"\"\n",
    "        toml.layout.display = link.layout.display = \"block\"\n",
    "        for repo in yak.repos.values():\n",
    "            for src in [repo, repo.github, repo.py, repo.js, repo.lite]:\n",
    "                if src and src not in observing:\n",
    "                    observing[src] = True\n",
    "                    src.observe(on_change)\n",
    "\n",
    "    [src.observe(on_change) for src in observing]\n",
    "    return W.VBox(\n",
    "        [\n",
    "            W.HTML(\"<h2>jupyak_config</h2>\"),\n",
    "            toml,\n",
    "            link,\n",
    "        ]\n",
    "    )"
   ]
  },
  {
   "cell_type": "code",
   "execution_count": null,
   "id": "28ad10d8-6536-4c21-88ee-a904a6af4261",
   "metadata": {},
   "outputs": [],
   "source": [
    "def make_style():\n",
    "    return W.HTML(\n",
    "        \"\"\"\n",
    "        <style>\n",
    "        .jpyk-big-button {\n",
    "            font-size: var(--jp-content-font-size5);\n",
    "            text-decoration: underline;\n",
    "            color: var(--jp-brand-color1);\n",
    "        }\n",
    "        </style>\n",
    "        \"\"\"\n",
    "    )"
   ]
  },
  {
   "cell_type": "code",
   "execution_count": null,
   "id": "462a0158-be95-44d2-ba82-3b3a003de276",
   "metadata": {},
   "outputs": [],
   "source": [
    "def make_builder():\n",
    "    yak = Y.Yak({\"repos\": {}})\n",
    "    old_repos = yak.repos\n",
    "    repos = make_repos(yak)\n",
    "    yak.repos = {}\n",
    "    style = make_style()\n",
    "    serialized = make_serialized(yak)\n",
    "    box = W.VBox([style, repos, serialized])\n",
    "    return box"
   ]
  },
  {
   "cell_type": "code",
   "execution_count": null,
   "id": "17c696dc-33ec-4fc4-8876-ba9597401251",
   "metadata": {},
   "outputs": [],
   "source": [
    "if __name__ == \"__main__\":\n",
    "    load_tasks()\n",
    "    D.display(make_builder())"
   ]
  }
 ],
 "metadata": {
  "kernelspec": {
   "display_name": "Python 3 (ipykernel)",
   "language": "python",
   "name": "python3"
  },
  "language_info": {
   "codemirror_mode": {
    "name": "ipython",
    "version": 3
   },
   "file_extension": ".py",
   "mimetype": "text/x-python",
   "name": "python",
   "nbconvert_exporter": "python",
   "pygments_lexer": "ipython3",
   "version": "3.11.6"
  }
 },
 "nbformat": 4,
 "nbformat_minor": 5
}
