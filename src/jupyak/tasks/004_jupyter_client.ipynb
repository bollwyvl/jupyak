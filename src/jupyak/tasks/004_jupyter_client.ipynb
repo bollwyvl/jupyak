{
 "cells": [
  {
   "cell_type": "markdown",
   "id": "af75e994-ac77-4cbd-aec9-cc669968d08c",
   "metadata": {},
   "source": [
    "# jupyter_client\n",
    "\n",
    "[`jupyter_client`](https://github.com/jupyter/jupyter_client) is the reference implementation of the Jupyter Kernel Messaging protocol."
   ]
  },
  {
   "cell_type": "code",
   "execution_count": null,
   "id": "f5d04000-7bba-4a64-8bb3-5039617f9e4b",
   "metadata": {},
   "outputs": [],
   "source": [
    "NAME = \"jupyter_client\"\n",
    "GH_ORG = \"jupyter\"\n",
    "URL = f\"https://github.com/{GH_ORG}/{NAME}\""
   ]
  },
  {
   "cell_type": "code",
   "execution_count": null,
   "id": "101b458b-f951-4de5-9b55-50e3f9d74a1d",
   "metadata": {},
   "outputs": [],
   "source": [
    "import importnb\n",
    "\n",
    "with importnb.Notebook():\n",
    "    from jupyak.tasks import __jupyter_core\n",
    "    from jupyak.tasks import _yak as Y"
   ]
  },
  {
   "cell_type": "code",
   "execution_count": null,
   "id": "1011604a-b95b-4a7d-a0a2-dd4121b187c9",
   "metadata": {},
   "outputs": [],
   "source": [
    "DEFAULTS = {\n",
    "    \"name\": NAME,\n",
    "    \"github\": {\"url\": URL},\n",
    "    \"py\": {\n",
    "        \"dependencies\": [__jupyter_core.NAME],\n",
    "    },\n",
    "}"
   ]
  },
  {
   "cell_type": "markdown",
   "id": "04012c7c-f353-4925-ad82-4dbdea484c13",
   "metadata": {},
   "source": [
    "## schema"
   ]
  },
  {
   "cell_type": "code",
   "execution_count": null,
   "id": "114d0c55-4ff9-48ef-90c7-f1413e25d2c7",
   "metadata": {},
   "outputs": [],
   "source": [
    "@Y.Yak.repo(NAME, (__jupyter_core.NAME,))\n",
    "def default_factory(yak: Y.Yak):\n",
    "    return DEFAULTS"
   ]
  }
 ],
 "metadata": {
  "kernelspec": {
   "display_name": "Python 3 (ipykernel)",
   "language": "python",
   "name": "python3"
  },
  "language_info": {
   "codemirror_mode": {
    "name": "ipython",
    "version": 3
   },
   "file_extension": ".py",
   "mimetype": "text/x-python",
   "name": "python",
   "nbconvert_exporter": "python",
   "pygments_lexer": "ipython3",
   "version": "3.11.6"
  }
 },
 "nbformat": 4,
 "nbformat_minor": 5
}
