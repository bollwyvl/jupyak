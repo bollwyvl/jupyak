{
 "cells": [
  {
   "cell_type": "markdown",
   "id": "af75e994-ac77-4cbd-aec9-cc669968d08c",
   "metadata": {},
   "source": [
    "# jupyter_server\n",
    "\n",
    "[`jupyter_server`](https://github.com/jupyter-server/jupyter_server) is the tornado-based web application that serves `jupyterlab`."
   ]
  },
  {
   "cell_type": "code",
   "execution_count": null,
   "id": "f5d04000-7bba-4a64-8bb3-5039617f9e4b",
   "metadata": {},
   "outputs": [],
   "source": [
    "NAME = \"jupyter_server\"\n",
    "GH_ORG = \"jupyter-server\"\n",
    "URL = f\"https://github.com/{GH_ORG}/{NAME}\""
   ]
  },
  {
   "cell_type": "code",
   "execution_count": null,
   "id": "101b458b-f951-4de5-9b55-50e3f9d74a1d",
   "metadata": {},
   "outputs": [],
   "source": [
    "import importnb\n",
    "\n",
    "with importnb.Notebook():\n",
    "    from jupyak.tasks import (\n",
    "        __jupyter_client,\n",
    "        __jupyter_core,\n",
    "        __jupyter_events,\n",
    "        __jupyter_server_terminals,\n",
    "        __nbconvert,\n",
    "        __traitlets,\n",
    "    )\n",
    "    from jupyak.tasks import _yak as Y"
   ]
  },
  {
   "cell_type": "code",
   "execution_count": null,
   "id": "d91ca7c3-9d2d-409c-b5dd-ed12c416a714",
   "metadata": {},
   "outputs": [],
   "source": [
    "DEFAULTS = {\n",
    "    \"name\": NAME,\n",
    "    \"github\": {\"url\": URL},\n",
    "    \"py\": {\n",
    "        \"dependencies\": [\n",
    "            __nbconvert.NAME,\n",
    "            __traitlets.NAME,\n",
    "            __jupyter_core.NAME,\n",
    "            __jupyter_client.NAME,\n",
    "            __jupyter_events.NAME,\n",
    "            __jupyter_server_terminals.NAME,\n",
    "        ],\n",
    "    },\n",
    "}"
   ]
  },
  {
   "cell_type": "markdown",
   "id": "04012c7c-f353-4925-ad82-4dbdea484c13",
   "metadata": {},
   "source": [
    "## schema"
   ]
  },
  {
   "cell_type": "code",
   "execution_count": null,
   "id": "24f8f47c-1051-4d88-8c74-b4317f24d693",
   "metadata": {},
   "outputs": [],
   "source": [
    "@Y.Yak.repo(NAME, tuple(DEFAULTS[\"py\"][\"dependencies\"]))\n",
    "def default_factory(yak: Y.Yak):\n",
    "    return DEFAULTS"
   ]
  }
 ],
 "metadata": {
  "kernelspec": {
   "display_name": "Python 3 (ipykernel)",
   "language": "python",
   "name": "python3"
  },
  "language_info": {
   "codemirror_mode": {
    "name": "ipython",
    "version": 3
   },
   "file_extension": ".py",
   "mimetype": "text/x-python",
   "name": "python",
   "nbconvert_exporter": "python",
   "pygments_lexer": "ipython3",
   "version": "3.11.6"
  }
 },
 "nbformat": 4,
 "nbformat_minor": 5
}
