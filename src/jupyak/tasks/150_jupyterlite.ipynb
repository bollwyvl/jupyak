{
 "cells": [
  {
   "cell_type": "markdown",
   "id": "4b8fa94a-9938-4d4d-9212-b8981f5520d1",
   "metadata": {},
   "source": [
    "# jupyterlite\n",
    "\n",
    "> [`jupyterlite`](https://github.com/jupyterlite/jupyterlite) provides a statically-hostable JupyterLab and Notebook experience, entirely running in the browser. "
   ]
  },
  {
   "cell_type": "code",
   "execution_count": null,
   "id": "2f02033a-8284-4d5d-a598-2dc8c0228dbd",
   "metadata": {},
   "outputs": [],
   "source": [
    "GH_ORG = NAME = \"jupyterlite\"\n",
    "JS_NS = \"@jupyterlite\"\n",
    "PY_PROVIDES = [NAME, \"jupyterlite_core\", \"jupyterlite_javascript_kernel\"]\n",
    "URL = f\"https://github.com/{GH_ORG}/{NAME}\""
   ]
  },
  {
   "cell_type": "code",
   "execution_count": null,
   "id": "ccbe8b70-15fb-4b2c-824c-1635e479c466",
   "metadata": {},
   "outputs": [],
   "source": [
    "import importnb\n",
    "\n",
    "with importnb.Notebook():\n",
    "    from jupyak.tasks import (\n",
    "        __jupyter_core,\n",
    "        __jupyter_server,\n",
    "        __jupyterlab,\n",
    "        __lumino,\n",
    "        __notebook,\n",
    "        __traitlets,\n",
    "    )\n",
    "    from jupyak.tasks import _well_known as W\n",
    "    from jupyak.tasks import _yak as Y"
   ]
  },
  {
   "cell_type": "markdown",
   "id": "868ca23d-757e-4c31-8bea-dfb10fd75f43",
   "metadata": {},
   "source": [
    "## schema"
   ]
  },
  {
   "cell_type": "markdown",
   "id": "a3951d13-1f73-47b0-b242-296d4334df15",
   "metadata": {},
   "source": [
    "Exclude some packages by npm name from linking. These manifest during webpack builds as:\n",
    "\n",
    "```bash\n",
    "[webpack-cli] Error: Cannot find module '@jupyterlab/nbconvert-css/package.json'\n",
    "```"
   ]
  },
  {
   "cell_type": "code",
   "execution_count": null,
   "id": "1c09f090-9d92-4896-b018-393a360ee61e",
   "metadata": {},
   "outputs": [],
   "source": [
    "lab_excludes = \"|\".join(\n",
    "    [\n",
    "        \"celltags-extension\",\n",
    "        \"debugger(-extension)?\",\n",
    "        \"extensionmanager(-extension)?\",\n",
    "        \"hub-extension\",\n",
    "        \"mermaid-extension\",\n",
    "        \"nbconvert-css\",\n",
    "        \"pluginmanager-extension\",\n",
    "        \"terminal(-extension)?\",\n",
    "        \"template\",\n",
    "    ],\n",
    ")\n",
    "nb_excludes = \"|\".join(\n",
    "    [\n",
    "        \"documentsearch-extension\",\n",
    "        \"lab-extension\",\n",
    "        \"terminal-extension\",\n",
    "    ],\n",
    ")\n",
    "js_dep_exclude_patterns = [\n",
    "    rf\"^@jupyterlab/({lab_excludes})$\",\n",
    "    rf\"^@jupyter-notebook/({nb_excludes})$\",\n",
    "]"
   ]
  },
  {
   "cell_type": "code",
   "execution_count": null,
   "id": "32784ad6-0344-41aa-a49b-7ebe54ab4285",
   "metadata": {},
   "outputs": [],
   "source": [
    "jsk = \"./py/jupyterlite-javascript-kernel\""
   ]
  },
  {
   "cell_type": "code",
   "execution_count": null,
   "id": "d2e634f2-d82b-4c0c-b224-b44eb9127cc9",
   "metadata": {},
   "outputs": [],
   "source": [
    "jsk_tsbi = f\"{jsk}/{W.TSCONFIG_BUILDINFO}\"\n",
    "jsk_ext_pkg_json = f\"{jsk}/jupyterlite_javascript_kernel/labextension/{W.PACKAGE_JSON}\"\n",
    "lite_third_party = \"app/build/third-party-licenses.json\"\n",
    "LAB_EXT = {\n",
    "    f\"./{jsk}\": {\n",
    "        \"file_dep\": [jsk_tsbi],\n",
    "        \"targets\": [jsk_ext_pkg_json],\n",
    "    },\n",
    "}"
   ]
  },
  {
   "cell_type": "code",
   "execution_count": null,
   "id": "965ec132-b2ef-4dcf-b527-37704a5716ce",
   "metadata": {},
   "outputs": [],
   "source": [
    "JS_TASKS = {\n",
    "    \"./\": [\n",
    "        {\n",
    "            \"name\": \"build\",\n",
    "            \"actions\": [[\"doit\", \"build:py:jupyterlite-core:pre:app\"]],\n",
    "            \"file_dep\": [],\n",
    "            \"targets\": [jsk_tsbi, lite_third_party],\n",
    "        },\n",
    "    ],\n",
    "}"
   ]
  },
  {
   "cell_type": "code",
   "execution_count": null,
   "id": "3194485f-9b29-449f-a377-07dcc275bc93",
   "metadata": {},
   "outputs": [],
   "source": [
    "DEFAULTS = {\n",
    "    \"name\": NAME,\n",
    "    \"github\": {\"url\": URL},\n",
    "    \"js\": {\n",
    "        \"dependencies\": [\n",
    "            __jupyterlab.NAME,\n",
    "            __notebook.NAME,\n",
    "            __lumino.NAME,\n",
    "        ],\n",
    "        \"dist_exclude_patterns\": [\"/app\"],\n",
    "        \"link_exclude_patterns\": js_dep_exclude_patterns,\n",
    "        \"tasks\": JS_TASKS,\n",
    "    },\n",
    "    \"py\": {\n",
    "        \"dependencies\": [\n",
    "            __jupyterlab.NAME,\n",
    "            __notebook.NAME,\n",
    "            __jupyter_server.NAME,\n",
    "            __jupyter_core.NAME,\n",
    "            __traitlets.NAME,\n",
    "        ],\n",
    "        \"pyproject_tomls\": [\n",
    "            \"./py/jupyterlite/pyproject.toml\",\n",
    "            \"./py/jupyterlite-core/pyproject.toml\",\n",
    "            \"./py/jupyterlite-javascript-kernel/pyproject.toml\",\n",
    "        ],\n",
    "        \"lab_extensions\": LAB_EXT,\n",
    "    },\n",
    "    \"lite\": {\n",
    "        \"needs_pth\": [\"jupyterlite_core\"],\n",
    "    },\n",
    "}"
   ]
  },
  {
   "cell_type": "code",
   "execution_count": null,
   "id": "e8e1da0d-0a66-4b4d-81d2-60dfddf94dd2",
   "metadata": {},
   "outputs": [],
   "source": [
    "@Y.Yak.repo(\n",
    "    NAME,\n",
    "    tuple(DEFAULTS[\"py\"][\"dependencies\"] + DEFAULTS[\"js\"][\"dependencies\"]),\n",
    ")\n",
    "def default_factory(yak: Y.Yak):\n",
    "    return DEFAULTS"
   ]
  }
 ],
 "metadata": {
  "kernelspec": {
   "display_name": "Python 3 (ipykernel)",
   "language": "python",
   "name": "python3"
  },
  "language_info": {
   "codemirror_mode": {
    "name": "ipython",
    "version": 3
   },
   "file_extension": ".py",
   "mimetype": "text/x-python",
   "name": "python",
   "nbconvert_exporter": "python",
   "pygments_lexer": "ipython3",
   "version": "3.11.6"
  }
 },
 "nbformat": 4,
 "nbformat_minor": 5
}
